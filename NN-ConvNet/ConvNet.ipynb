{
 "cells": [
  {
   "cell_type": "markdown",
   "metadata": {
    "collapsed": true
   },
   "source": [
    "# convolution net model:\n",
    "## layers i:\n",
    "layers shape: [width, height, chanel_i]\n",
    "\n",
    "\n",
    "## kernels i:\n",
    "+ padding\n",
    "+ step\n",
    "    layer_width_next = floor((layer_width + 2*padding - kernel_width)/2 + 1)\n",
    "\n",
    "+ convolution:\n",
    "    kernels shape: [width, height, chanel_(i-1), chanel_i]\n",
    "    forward: \n",
    "\n",
    "\n",
    "\n",
    "+ pooling:\n",
    "    max:\n",
    "    mean:\n",
    "\n",
    "\n",
    "\n",
    "+ input layer 0: width, height, 3(rgb)\n",
    "\n",
    "+ convolution output layer:\n",
    "\n",
    "\n",
    "+ full connected layers:\n",
    "\n",
    "\n",
    "\n",
    "\n"
   ]
  },
  {
   "cell_type": "code",
   "execution_count": null,
   "metadata": {},
   "outputs": [],
   "source": []
  },
  {
   "cell_type": "code",
   "execution_count": null,
   "metadata": {},
   "outputs": [],
   "source": []
  }
 ],
 "metadata": {
  "kernelspec": {
   "display_name": "Python 3 (ipykernel)",
   "language": "python",
   "name": "python3"
  },
  "language_info": {
   "codemirror_mode": {
    "name": "ipython",
    "version": 3
   },
   "file_extension": ".py",
   "mimetype": "text/x-python",
   "name": "python",
   "nbconvert_exporter": "python",
   "pygments_lexer": "ipython3",
   "version": "3.9.7"
  },
  "pycharm": {
   "stem_cell": {
    "cell_type": "raw",
    "metadata": {
     "collapsed": false
    },
    "source": []
   }
  }
 },
 "nbformat": 4,
 "nbformat_minor": 1
}
