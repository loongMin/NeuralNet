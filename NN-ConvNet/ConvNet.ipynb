{
 "cells": [
  {
   "cell_type": "markdown",
   "metadata": {
    "collapsed": true
   },
   "source": [
    "# convolution net model:\n",
    "## layers i:\n",
    "layers shape: [width, height, channel_i]\n",
    "\n",
    "\n",
    "## kernels i:\n",
    "+ convolution:\n",
    "    kernels shape: [width, height, channel_(i-1), channel_i]\n",
    "    forward: Z^[i] = W^[i] * Z^[i-1], \n",
    "    backward: dW^[i] += dZ^[i] * Z^[i-1], dZ^[i-1] += W^[i] * dZ^[i]\n",
    "    \n",
    "+ pooling:\n",
    "    max        \n",
    "    mean\n",
    "             \n",
    "+ full connected layers:\n",
    "    \n",
    "\n",
    "\n",
    "+ input layer 0: [width, height, 3(rgb)]\n",
    "\n",
    "+ convolution output layer:\n",
    "\n",
    "## Programming Parameters\n",
    "+ kernels: \n",
    "    convolution: (layers, kernels, kernel_width, kernel_height, channel_i-1)\n",
    "    pooling: max, mean\n",
    "+ padding\n",
    "+ step\n",
    "+ layers: (layers, layer_width, layer_height, channel)\n",
    "+ \n",
    "\n",
    "\n",
    "\n"
   ]
  },
  {
   "cell_type": "code",
   "execution_count": 7,
   "metadata": {},
   "outputs": [],
   "source": [
    "import numpy as np\n",
    "import matplotlib.pyplot as plt\n",
    "import pandas as pd\n",
    "import torch\n",
    "import torchvision\n",
    "from PIL import Image"
   ]
  },
  {
   "cell_type": "code",
   "execution_count": 56,
   "metadata": {},
   "outputs": [],
   "source": [
    "def getXY(batch_size=128):\n",
    "    train_loader = torch.utils.data.DataLoader(\n",
    "        torchvision.datasets.MNIST('./../data/', train=True, download=False,\n",
    "                                   transform=torchvision.transforms.Compose([\n",
    "                                       torchvision.transforms.ToTensor(),\n",
    "                                       torchvision.transforms.Normalize(\n",
    "                                           (0.1307,), (0.3081,))\n",
    "                                   ])),\n",
    "        batch_size=batch_size, shuffle=True)\n",
    "    train_batch = enumerate(train_loader)\n",
    "    batch_idx, (train_imgs, train_labels) = next(train_batch)\n",
    "    return np.array(train_imgs), np.array(train_labels)"
   ]
  },
  {
   "cell_type": "code",
   "execution_count": 58,
   "metadata": {},
   "outputs": [
    {
     "name": "stdout",
     "output_type": "stream",
     "text": [
      "(128, 1, 28, 28)\n",
      "(128,)\n"
     ]
    }
   ],
   "source": [
    "x, y = getXY()\n",
    "img_array = x\n",
    "print(img_array.shape)\n",
    "print(y.shape)\n"
   ]
  },
  {
   "cell_type": "code",
   "execution_count": 59,
   "metadata": {},
   "outputs": [],
   "source": [
    "img = Image.fromarray(img_array[2,0,:,:]*255)\n",
    "img.show()"
   ]
  },
  {
   "cell_type": "code",
   "execution_count": 52,
   "metadata": {},
   "outputs": [],
   "source": [
    "def get_kernels(nums, shape):\n",
    "    return np.random.rand(nums, shape[0], shape[1])"
   ]
  },
  {
   "cell_type": "code",
   "execution_count": 53,
   "metadata": {},
   "outputs": [
    {
     "data": {
      "text/plain": [
       "array([[[0.61860197, 0.92121007, 0.86393938],\n",
       "        [0.03482661, 0.73572476, 0.60343161],\n",
       "        [0.67085427, 0.13630487, 0.83850324]],\n",
       "\n",
       "       [[0.84623997, 0.87612566, 0.74502309],\n",
       "        [0.61551205, 0.93975662, 0.88282779],\n",
       "        [0.98704673, 0.42651678, 0.91172385]],\n",
       "\n",
       "       [[0.21943519, 0.17308419, 0.0659403 ],\n",
       "        [0.66620653, 0.40385989, 0.94475801],\n",
       "        [0.4841064 , 0.00503829, 0.79240687]],\n",
       "\n",
       "       [[0.88481318, 0.25741646, 0.63679573],\n",
       "        [0.79533409, 0.56681595, 0.73802031],\n",
       "        [0.12705943, 0.35681022, 0.44040664]]])"
      ]
     },
     "execution_count": 53,
     "metadata": {},
     "output_type": "execute_result"
    }
   ],
   "source": [
    "\n",
    "def forward(img, kernels):\n",
    "    conv_X = img\n",
    "    conv_1 = \n",
    "        "
   ]
  },
  {
   "cell_type": "code",
   "execution_count": 51,
   "metadata": {},
   "outputs": [
    {
     "data": {
      "text/plain": [
       "array([[[ 1.5055577 , -0.5271593 ,  0.289494  ],\n",
       "        [ 0.55615939,  1.16701653,  0.70996689]],\n",
       "\n",
       "       [[ 0.396356  , -1.04469455,  1.03994638],\n",
       "        [-0.61669649, -0.7612446 ,  0.37941705]]])"
      ]
     },
     "execution_count": 51,
     "metadata": {},
     "output_type": "execute_result"
    }
   ],
   "source": []
  }
 ],
 "metadata": {
  "kernelspec": {
   "display_name": "Python 3",
   "language": "python",
   "name": "python3"
  },
  "language_info": {
   "codemirror_mode": {
    "name": "ipython",
    "version": 3
   },
   "file_extension": ".py",
   "mimetype": "text/x-python",
   "name": "python",
   "nbconvert_exporter": "python",
   "pygments_lexer": "ipython3",
   "version": "3.8.5"
  },
  "pycharm": {
   "stem_cell": {
    "cell_type": "raw",
    "metadata": {
     "collapsed": false
    },
    "source": []
   }
  }
 },
 "nbformat": 4,
 "nbformat_minor": 1
}
