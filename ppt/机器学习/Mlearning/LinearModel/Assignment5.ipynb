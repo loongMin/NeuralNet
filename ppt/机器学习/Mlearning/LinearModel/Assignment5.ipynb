{
 "cells": [
  {
   "cell_type": "markdown",
   "metadata": {},
   "source": [
    "# 综合题(选做)"
   ]
  },
  {
   "cell_type": "markdown",
   "metadata": {},
   "source": [
    "任务要求：白葡萄酒质量共分为7个等级，对白葡萄酒质量进行预测。\n",
    "1. 使用精度作为评价指标。\n",
    "2. 使用一元线性回归、多元线性回归、对数线性回归等线性回归模型对葡萄酒质量进行预测，计算其十折交叉验证的精度。\n",
    "3. 使用对数几率回归、线性判别分析对葡萄酒质量进行预测，计算其十折交叉验证的精度。\n",
    "4. 对比不同模型的预测能力。"
   ]
  },
  {
   "cell_type": "markdown",
   "metadata": {},
   "source": [
    "## 读取数据"
   ]
  },
  {
   "cell_type": "code",
   "execution_count": 1,
   "metadata": {},
   "outputs": [],
   "source": [
    "import pandas as pd\n",
    "import numpy as np\n",
    "data = pd.read_csv('data/wine_quality/winequality-white.csv', delimiter=\";\")"
   ]
  },
  {
   "cell_type": "code",
   "execution_count": 2,
   "metadata": {},
   "outputs": [
    {
     "name": "stdout",
     "output_type": "stream",
     "text": [
      "<class 'pandas.core.frame.DataFrame'>\n",
      "RangeIndex: 4898 entries, 0 to 4897\n",
      "Data columns (total 12 columns):\n",
      " #   Column                Non-Null Count  Dtype  \n",
      "---  ------                --------------  -----  \n",
      " 0   fixed acidity         4898 non-null   float64\n",
      " 1   volatile acidity      4898 non-null   float64\n",
      " 2   citric acid           4898 non-null   float64\n",
      " 3   residual sugar        4898 non-null   float64\n",
      " 4   chlorides             4898 non-null   float64\n",
      " 5   free sulfur dioxide   4898 non-null   float64\n",
      " 6   total sulfur dioxide  4898 non-null   float64\n",
      " 7   density               4898 non-null   float64\n",
      " 8   pH                    4898 non-null   float64\n",
      " 9   sulphates             4898 non-null   float64\n",
      " 10  alcohol               4898 non-null   float64\n",
      " 11  quality               4898 non-null   int64  \n",
      "dtypes: float64(11), int64(1)\n",
      "memory usage: 459.3 KB\n"
     ]
    }
   ],
   "source": [
    "data.head()\n",
    "data.info()"
   ]
  },
  {
   "cell_type": "code",
   "execution_count": 3,
   "metadata": {},
   "outputs": [],
   "source": [
    "# YOUR CODE HERE\n",
    "from sklearn.linear_model import LinearRegression\n",
    "from sklearn.metrics import accuracy_score\n",
    "from sklearn.model_selection import cross_val_predict"
   ]
  },
  {
   "cell_type": "code",
   "execution_count": 4,
   "metadata": {},
   "outputs": [
    {
     "name": "stdout",
     "output_type": "stream",
     "text": [
      "0.3184973458554512\n"
     ]
    }
   ],
   "source": [
    "#一元线性回归\n",
    "model = LinearRegression()\n",
    "\n",
    "features = ['fixed acidity']\n",
    "x = data[features]\n",
    "y = data['quality']\n",
    "\n",
    "pred = cross_val_predict(model, x, y, cv = 10)\n",
    "\n",
    "acc1 = accuracy_score(y,pred.astype('int'))\n",
    "print(acc1)"
   ]
  },
  {
   "cell_type": "code",
   "execution_count": 5,
   "metadata": {},
   "outputs": [
    {
     "name": "stdout",
     "output_type": "stream",
     "text": [
      "0.4087382605144957\n"
     ]
    }
   ],
   "source": [
    "#多元线性回归\n",
    "features = ['fixed acidity','volatile acidity','citric acid','residual sugar','chlorides']\n",
    "x = data[features]\n",
    "y = data['quality']\n",
    "\n",
    "pred = cross_val_predict(model, x, y, cv = 10)\n",
    "\n",
    "acc2 = accuracy_score(y,pred.astype('int'))\n",
    "print(acc2)"
   ]
  },
  {
   "cell_type": "code",
   "execution_count": 6,
   "metadata": {},
   "outputs": [
    {
     "name": "stdout",
     "output_type": "stream",
     "text": [
      "0.3044099632503062\n"
     ]
    }
   ],
   "source": [
    "#一元对数线性回归\n",
    "model = LinearRegression()\n",
    "\n",
    "features = ['fixed acidity']\n",
    "x = data[features]\n",
    "y = data['quality']\n",
    "ly = np.log(y)\n",
    "\n",
    "pred = np.exp(cross_val_predict(model, x, ly, cv = 10))\n",
    "\n",
    "acc3 = accuracy_score(y,pred.astype('int'))\n",
    "print(acc3)"
   ]
  },
  {
   "cell_type": "code",
   "execution_count": 7,
   "metadata": {},
   "outputs": [
    {
     "name": "stdout",
     "output_type": "stream",
     "text": [
      "0.37321355655369537\n"
     ]
    }
   ],
   "source": [
    "#多元对数线性回归\n",
    "features = ['fixed acidity','volatile acidity','citric acid','residual sugar','chlorides']\n",
    "x = data[features]\n",
    "y = data['quality']\n",
    "ly = np.log(y)\n",
    "\n",
    "pred = np.exp(cross_val_predict(model, x, ly, cv = 10))\n",
    "\n",
    "acc4 = accuracy_score(y,pred.astype('int'))\n",
    "print(acc4)"
   ]
  },
  {
   "cell_type": "code",
   "execution_count": 8,
   "metadata": {},
   "outputs": [],
   "source": [
    "from sklearn.linear_model import LogisticRegression\n",
    "from sklearn.model_selection import cross_val_predict"
   ]
  },
  {
   "cell_type": "code",
   "execution_count": 9,
   "metadata": {},
   "outputs": [],
   "source": [
    "#对数几率回归\n",
    "x = np.array(data)[:,:11]\n",
    "y = np.array(data)[:,11]\n",
    "\n"
   ]
  },
  {
   "cell_type": "code",
   "execution_count": 10,
   "metadata": {},
   "outputs": [
    {
     "name": "stderr",
     "output_type": "stream",
     "text": [
      "C:\\ProgramData\\Anaconda3\\lib\\site-packages\\sklearn\\model_selection\\_split.py:670: UserWarning: The least populated class in y has only 5 members, which is less than n_splits=10.\n",
      "  warnings.warn((\"The least populated class in y has only %d\"\n"
     ]
    }
   ],
   "source": [
    "model = LogisticRegression(max_iter=500000)\n",
    "pred = cross_val_predict(model, x.astype('int'), y.astype('int'), cv = 10)"
   ]
  },
  {
   "cell_type": "code",
   "execution_count": 11,
   "metadata": {},
   "outputs": [
    {
     "name": "stdout",
     "output_type": "stream",
     "text": [
      "0.4812168231931401\n"
     ]
    }
   ],
   "source": [
    "acc5 = accuracy_score(y,pred)\n",
    "print(acc5)"
   ]
  },
  {
   "cell_type": "code",
   "execution_count": 12,
   "metadata": {},
   "outputs": [],
   "source": [
    "from sklearn.discriminant_analysis import LinearDiscriminantAnalysis"
   ]
  },
  {
   "cell_type": "code",
   "execution_count": 13,
   "metadata": {},
   "outputs": [
    {
     "name": "stderr",
     "output_type": "stream",
     "text": [
      "C:\\ProgramData\\Anaconda3\\lib\\site-packages\\sklearn\\model_selection\\_split.py:670: UserWarning: The least populated class in y has only 5 members, which is less than n_splits=10.\n",
      "  warnings.warn((\"The least populated class in y has only %d\"\n"
     ]
    }
   ],
   "source": [
    "#线性判别分析\n",
    "model = LinearDiscriminantAnalysis()\n",
    "pred = cross_val_predict(model, x, y.astype('int'), cv = 10)"
   ]
  },
  {
   "cell_type": "code",
   "execution_count": 14,
   "metadata": {},
   "outputs": [
    {
     "name": "stdout",
     "output_type": "stream",
     "text": [
      "0.5216414863209473\n"
     ]
    }
   ],
   "source": [
    "acc6 = accuracy_score(y,pred)\n",
    "print(acc6)"
   ]
  },
  {
   "cell_type": "markdown",
   "metadata": {},
   "source": [
    "一元线性回归|多元线性回归|一元对数几率回归|多元对数几率回归\n",
    "-|-|-|-\n",
    "0.3184973458554512|0.4087382605144957|0.5216414863209473"
   ]
  }
 ],
 "metadata": {
  "kernelspec": {
   "display_name": "Python 3",
   "language": "python",
   "name": "python3"
  },
  "language_info": {
   "codemirror_mode": {
    "name": "ipython",
    "version": 3
   },
   "file_extension": ".py",
   "mimetype": "text/x-python",
   "name": "python",
   "nbconvert_exporter": "python",
   "pygments_lexer": "ipython3",
   "version": "3.8.5"
  },
  "toc": {
   "base_numbering": 1,
   "nav_menu": {},
   "number_sections": true,
   "sideBar": true,
   "skip_h1_title": false,
   "title_cell": "Table of Contents",
   "title_sidebar": "Contents",
   "toc_cell": false,
   "toc_position": {},
   "toc_section_display": true,
   "toc_window_display": false
  }
 },
 "nbformat": 4,
 "nbformat_minor": 2
}
