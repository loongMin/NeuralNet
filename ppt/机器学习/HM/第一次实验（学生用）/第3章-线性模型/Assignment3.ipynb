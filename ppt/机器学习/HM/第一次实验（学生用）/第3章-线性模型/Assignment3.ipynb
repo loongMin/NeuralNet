{
 "cells": [
  {
   "cell_type": "markdown",
   "metadata": {},
   "source": [
    "# 对数几率回归"
   ]
  },
  {
   "cell_type": "markdown",
   "metadata": {},
   "source": [
    "## 实验内容\n",
    "1. 使用对数几率回归完成垃圾邮件分类问题和Dota2结果预测问题。\n",
    "2. 计算十折交叉验证下的精度(accuracy)，查准率(precision)，查全率(recall)，F1值。\n",
    "\n",
    "## 评测指标  \n",
    "1. 精度\n",
    "2. 查准率\n",
    "3. 查全率\n",
    "4. F1"
   ]
  },
  {
   "cell_type": "markdown",
   "metadata": {},
   "source": [
    "# 1. 读取数据"
   ]
  },
  {
   "cell_type": "code",
   "execution_count": 4,
   "metadata": {},
   "outputs": [],
   "source": [
    "import numpy as np"
   ]
  },
  {
   "cell_type": "code",
   "execution_count": 5,
   "metadata": {},
   "outputs": [],
   "source": [
    "spambase = np.loadtxt('data/spambase/spambase.data', delimiter = \",\")\n",
    "dota2results = np.loadtxt('data/dota2Dataset/dota2Train.csv', delimiter=',')"
   ]
  },
  {
   "cell_type": "markdown",
   "metadata": {},
   "source": [
    "# 2. 导入模型"
   ]
  },
  {
   "cell_type": "code",
   "execution_count": 6,
   "metadata": {},
   "outputs": [],
   "source": [
    "from sklearn.linear_model import LogisticRegression\n",
    "from sklearn.metrics import accuracy_score\n",
    "from sklearn.metrics import precision_score\n",
    "from sklearn.metrics import recall_score\n",
    "from sklearn.metrics import f1_score\n",
    "from sklearn.model_selection import cross_val_predict"
   ]
  },
  {
   "cell_type": "markdown",
   "metadata": {},
   "source": [
    "# 3. 提取数据"
   ]
  },
  {
   "cell_type": "markdown",
   "metadata": {},
   "source": [
    "这里的spamx和dota2x包含了数据集内所有的特征"
   ]
  },
  {
   "cell_type": "code",
   "execution_count": 12,
   "metadata": {},
   "outputs": [
    {
     "name": "stdout",
     "output_type": "stream",
     "text": [
      "(4601, 57) [[0.000e+00 6.400e-01 6.400e-01 ... 3.756e+00 6.100e+01 2.780e+02]\n",
      " [2.100e-01 2.800e-01 5.000e-01 ... 5.114e+00 1.010e+02 1.028e+03]\n",
      " [6.000e-02 0.000e+00 7.100e-01 ... 9.821e+00 4.850e+02 2.259e+03]\n",
      " ...\n",
      " [3.000e-01 0.000e+00 3.000e-01 ... 1.404e+00 6.000e+00 1.180e+02]\n",
      " [9.600e-01 0.000e+00 0.000e+00 ... 1.147e+00 5.000e+00 7.800e+01]\n",
      " [0.000e+00 0.000e+00 6.500e-01 ... 1.250e+00 5.000e+00 4.000e+01]]\n",
      "(4601,) [1. 1. 1. ... 0. 0. 0.]\n"
     ]
    }
   ],
   "source": [
    "spamx = spambase[:, :57]\n",
    "spamy = spambase[:, 57]\n",
    "print(spamx.shape,spamx)\n",
    "print(spamy.shape,spamy)\n",
    "\n",
    "dota2x = dota2results[:, 1:]\n",
    "dota2y = dota2results[:, 0]"
   ]
  },
  {
   "cell_type": "markdown",
   "metadata": {},
   "source": [
    "# 4. 训练并预测"
   ]
  },
  {
   "cell_type": "markdown",
   "metadata": {},
   "source": [
    "请你完成两个模型使用全部特征的训练与预测，并将预测结果存储起来"
   ]
  },
  {
   "cell_type": "code",
   "execution_count": 10,
   "metadata": {},
   "outputs": [],
   "source": [
    "# YOUR CODE HERE\n",
    "model1 = LogisticRegression(max_iter=5000)\n",
    "prediction1 = cross_val_predict(model1, spamx, spamy.astype('int'), cv = 10)"
   ]
  },
  {
   "cell_type": "code",
   "execution_count": 11,
   "metadata": {},
   "outputs": [],
   "source": [
    "model2 = LogisticRegression(max_iter=5000)\n",
    "prediction2 = cross_val_predict(model2, dota2x, dota2y.astype('int'), cv = 10)"
   ]
  },
  {
   "cell_type": "markdown",
   "metadata": {},
   "source": [
    "# 5. 评价指标的计算"
   ]
  },
  {
   "cell_type": "markdown",
   "metadata": {},
   "source": [
    "请你计算两个模型的四项指标"
   ]
  },
  {
   "cell_type": "code",
   "execution_count": 91,
   "metadata": {},
   "outputs": [
    {
     "name": "stdout",
     "output_type": "stream",
     "text": [
      "0.9180612910236905 0.9042792792792793 0.8858246001103144 0.8949568124825857\n"
     ]
    }
   ],
   "source": [
    "# YOUR CODE HERE\n",
    "# acc_spam = 0\n",
    "# tp_spam = 0\n",
    "# fp_spam = 0\n",
    "# fn_spam = 0\n",
    "# for i in range(prediction1.shape[0]):\n",
    "#     if prediction1[i] == spamy[i]:\n",
    "#         acc_spam += 1\n",
    "#     if spamy[i]and prediction1[i]:\n",
    "#         tp_spam +=1\n",
    "#     if spamy[i]and not prediction1[i]:\n",
    "#         fn_spam +=1\n",
    "#     if (not spamy[i])and prediction1[i]:\n",
    "#         fp_spam +=1\n",
    "# acc_spam /= prediction1.shape[0]\n",
    "# pre_spam = tp_spam/(tp_spam+fp_spam)\n",
    "# rec_spam = tp_spam/(tp_spam+fn_spam)\n",
    "# f1_spam = 2*pre_spam*rec_spam/(pre_spam + rec_spam)\n",
    "\n",
    "# print(acc_spam,pre_spam,rec_spam,f1_spam)\n",
    "\n",
    "acc_spam = accuracy_score(spamy,prediction1)\n",
    "pre_spam = precision_score(spamy,prediction1)\n",
    "rec_spam = recall_score(spamy,prediction1)\n",
    "f1_spam = f1_score(spamy,prediction1)\n",
    "\n",
    "print(acc_spam,pre_spam,rec_spam,f1_spam)"
   ]
  },
  {
   "cell_type": "code",
   "execution_count": 92,
   "metadata": {},
   "outputs": [
    {
     "name": "stdout",
     "output_type": "stream",
     "text": [
      "0.5987371829465731 0.6066498796110794 0.6766020253372146 0.6397193499307097\n"
     ]
    }
   ],
   "source": [
    "# acc_dota2 = 0\n",
    "# tp_dota2 = 0\n",
    "# fp_dota2 = 0\n",
    "# fn_dota2 = 0\n",
    "\n",
    "# for i in range(prediction2.shape[0]):\n",
    "#     if prediction2[i] == dota2y[i]:\n",
    "#         acc_dota2 += 1\n",
    "#     if dota2y[i]>0 and prediction2[i]>0:\n",
    "#         tp_dota2 +=1\n",
    "#     if dota2y[i]>0 and prediction2[i]<0:\n",
    "#         fn_dota2 +=1\n",
    "#     if dota2y[i]<0 and prediction2[i]>0:\n",
    "#         fp_dota2 +=1\n",
    "# print(acc_dota2)\n",
    "# acc_dota2 /= prediction2.shape[0]\n",
    "# pre_dota2 = tp_dota2/(tp_dota2+fp_dota2)\n",
    "# rec_dota2 = tp_dota2/(tp_dota2+fn_dota2)\n",
    "# f1_dota2 = 2*pre_dota2*rec_dota2/(pre_dota2 + rec_dota2)\n",
    "\n",
    "# print(acc_dota2,pre_dota2,rec_dota2,f1_dota2)\n",
    "\n",
    "acc_dota2 = accuracy_score(dota2y,prediction2)\n",
    "pre_dota2 = precision_score(dota2y,prediction2)\n",
    "rec_dota2 = recall_score(dota2y,prediction2)\n",
    "f1_dota2 = f1_score(dota2y,prediction2)\n",
    "\n",
    "print(acc_dota2,pre_dota2,rec_dota2,f1_dota2)"
   ]
  },
  {
   "cell_type": "markdown",
   "metadata": {},
   "source": [
    "###### 双击此处填写\n",
    "\n",
    "数据集|精度|查准率|查全率|F1\n",
    "-|-|-|-|-\n",
    "spambase | 0.9180612910236905 | 0.9042792792792793 | 0.8858246001103144 | 0.8949568124825857\n",
    "dota2Results | 0.5987371829465731  | 0.6066498796110794  | 0.6766020253372146 | 0.6397193499307097"
   ]
  },
  {
   "cell_type": "markdown",
   "metadata": {},
   "source": [
    "# 6. 选做：尝试对特征进行变换、筛选、组合后，训练模型并计算十折交叉验证后的四项指标"
   ]
  },
  {
   "cell_type": "code",
   "execution_count": null,
   "metadata": {},
   "outputs": [],
   "source": [
    "# YOUR CODE HERE\n",
    "\n",
    "\n"
   ]
  },
  {
   "cell_type": "markdown",
   "metadata": {},
   "source": [
    "###### 双击此处填写\n",
    "1. 模型1的处理流程：\n",
    "2. 模型2的处理流程：\n",
    "3. 模型3的处理流程:\n",
    "\n",
    "模型|数据集|精度|查准率|查全率|F1\n",
    "-|-|-|-|-|-\n",
    "模型1 | 数据集 | 0.0 | 0.0 | 0.0 | 0.0\n",
    "模型2 | 数据集 | 0.0 | 0.0 | 0.0 | 0.0\n",
    "模型3 | 数据集 | 0.0 | 0.0 | 0.0 | 0.0"
   ]
  },
  {
   "cell_type": "code",
   "execution_count": null,
   "metadata": {},
   "outputs": [],
   "source": []
  }
 ],
 "metadata": {
  "kernelspec": {
   "display_name": "Python 3",
   "language": "python",
   "name": "python3"
  },
  "language_info": {
   "codemirror_mode": {
    "name": "ipython",
    "version": 3
   },
   "file_extension": ".py",
   "mimetype": "text/x-python",
   "name": "python",
   "nbconvert_exporter": "python",
   "pygments_lexer": "ipython3",
   "version": "3.7.6"
  },
  "toc": {
   "base_numbering": 1,
   "nav_menu": {},
   "number_sections": true,
   "sideBar": true,
   "skip_h1_title": false,
   "title_cell": "Table of Contents",
   "title_sidebar": "Contents",
   "toc_cell": false,
   "toc_position": {},
   "toc_section_display": true,
   "toc_window_display": false
  }
 },
 "nbformat": 4,
 "nbformat_minor": 2
}
