{
 "cells": [
  {
   "cell_type": "markdown",
   "metadata": {},
   "source": [
    "# 多元线性回归/对数线性回归（二选一）"
   ]
  },
  {
   "cell_type": "markdown",
   "metadata": {},
   "source": [
    "## 一、多元线性回归\n",
    "这部分的内容是要求大家完成多元线性回归，我们会先带着大家使用sklearn做一元线性回归的十折交叉验证，多元线性回归大家可以仿照着完成"
   ]
  },
  {
   "cell_type": "markdown",
   "metadata": {},
   "source": [
    "### 1. 读取数据"
   ]
  },
  {
   "cell_type": "code",
   "execution_count": 1,
   "metadata": {},
   "outputs": [],
   "source": [
    "import numpy as np"
   ]
  },
  {
   "cell_type": "code",
   "execution_count": 2,
   "metadata": {},
   "outputs": [],
   "source": [
    "import pandas as pd\n",
    "\n",
    "# 读取数据\n",
    "data = pd.read_csv('data/kaggle_house_price_prediction/kaggle_hourse_price_train.csv')\n",
    "\n",
    "# 丢弃有缺失值的特征（列）\n",
    "data.dropna(axis = 1, inplace = True)\n",
    "\n",
    "# 只保留整数的特征\n",
    "data = data[[col for col in data.dtypes.index if data.dtypes[col] == 'int64']]"
   ]
  },
  {
   "cell_type": "code",
   "execution_count": 3,
   "metadata": {},
   "outputs": [
    {
     "name": "stdout",
     "output_type": "stream",
     "text": [
      "<class 'pandas.core.frame.DataFrame'>\n",
      "RangeIndex: 1460 entries, 0 to 1459\n",
      "Data columns (total 35 columns):\n",
      " #   Column         Non-Null Count  Dtype\n",
      "---  ------         --------------  -----\n",
      " 0   Id             1460 non-null   int64\n",
      " 1   MSSubClass     1460 non-null   int64\n",
      " 2   LotArea        1460 non-null   int64\n",
      " 3   OverallQual    1460 non-null   int64\n",
      " 4   OverallCond    1460 non-null   int64\n",
      " 5   YearBuilt      1460 non-null   int64\n",
      " 6   YearRemodAdd   1460 non-null   int64\n",
      " 7   BsmtFinSF1     1460 non-null   int64\n",
      " 8   BsmtFinSF2     1460 non-null   int64\n",
      " 9   BsmtUnfSF      1460 non-null   int64\n",
      " 10  TotalBsmtSF    1460 non-null   int64\n",
      " 11  1stFlrSF       1460 non-null   int64\n",
      " 12  2ndFlrSF       1460 non-null   int64\n",
      " 13  LowQualFinSF   1460 non-null   int64\n",
      " 14  GrLivArea      1460 non-null   int64\n",
      " 15  BsmtFullBath   1460 non-null   int64\n",
      " 16  BsmtHalfBath   1460 non-null   int64\n",
      " 17  FullBath       1460 non-null   int64\n",
      " 18  HalfBath       1460 non-null   int64\n",
      " 19  BedroomAbvGr   1460 non-null   int64\n",
      " 20  KitchenAbvGr   1460 non-null   int64\n",
      " 21  TotRmsAbvGrd   1460 non-null   int64\n",
      " 22  Fireplaces     1460 non-null   int64\n",
      " 23  GarageCars     1460 non-null   int64\n",
      " 24  GarageArea     1460 non-null   int64\n",
      " 25  WoodDeckSF     1460 non-null   int64\n",
      " 26  OpenPorchSF    1460 non-null   int64\n",
      " 27  EnclosedPorch  1460 non-null   int64\n",
      " 28  3SsnPorch      1460 non-null   int64\n",
      " 29  ScreenPorch    1460 non-null   int64\n",
      " 30  PoolArea       1460 non-null   int64\n",
      " 31  MiscVal        1460 non-null   int64\n",
      " 32  MoSold         1460 non-null   int64\n",
      " 33  YrSold         1460 non-null   int64\n",
      " 34  SalePrice      1460 non-null   int64\n",
      "dtypes: int64(35)\n",
      "memory usage: 399.3 KB\n"
     ]
    }
   ],
   "source": [
    "data.info()"
   ]
  },
  {
   "cell_type": "markdown",
   "metadata": {},
   "source": [
    "### 2. 引入模型"
   ]
  },
  {
   "cell_type": "code",
   "execution_count": 5,
   "metadata": {},
   "outputs": [],
   "source": [
    "from sklearn.linear_model import LinearRegression\n",
    "from sklearn.metrics import mean_absolute_error\n",
    "from sklearn.metrics import mean_squared_error\n",
    "from sklearn.model_selection import cross_val_predict"
   ]
  },
  {
   "cell_type": "markdown",
   "metadata": {},
   "source": [
    "### 3. 使用sklearn完成一元线性回归的十折交叉验证验证"
   ]
  },
  {
   "cell_type": "markdown",
   "metadata": {},
   "source": [
    "#### 创建模型"
   ]
  },
  {
   "cell_type": "code",
   "execution_count": 6,
   "metadata": {},
   "outputs": [],
   "source": [
    "model = LinearRegression()"
   ]
  },
  {
   "cell_type": "markdown",
   "metadata": {},
   "source": [
    "#### 选取数据"
   ]
  },
  {
   "cell_type": "code",
   "execution_count": 20,
   "metadata": {},
   "outputs": [
    {
     "data": {
      "text/plain": [
       "(1460, 1)"
      ]
     },
     "execution_count": 20,
     "metadata": {},
     "output_type": "execute_result"
    }
   ],
   "source": [
    "features = ['LotArea']\n",
    "x = data[features]\n",
    "y = data['SalePrice']"
   ]
  },
  {
   "cell_type": "markdown",
   "metadata": {},
   "source": [
    "#### 做十折交叉验证的预测"
   ]
  },
  {
   "cell_type": "code",
   "execution_count": 17,
   "metadata": {},
   "outputs": [],
   "source": [
    "prediction = cross_val_predict(model, x, y, cv = 10)"
   ]
  },
  {
   "cell_type": "markdown",
   "metadata": {},
   "source": [
    "这十折交叉验证是按顺序做的，会先将前10%的数据作为测试集，然后会往后顺延到10%到20%，最后将这十份的预测值按顺序拼接后返回"
   ]
  },
  {
   "cell_type": "code",
   "execution_count": 22,
   "metadata": {},
   "outputs": [
    {
     "data": {
      "text/plain": [
       "(1460,)"
      ]
     },
     "execution_count": 22,
     "metadata": {},
     "output_type": "execute_result"
    }
   ],
   "source": [
    "prediction.shape"
   ]
  },
  {
   "cell_type": "markdown",
   "metadata": {},
   "source": [
    "### 4. 计算评价指标"
   ]
  },
  {
   "cell_type": "markdown",
   "metadata": {},
   "source": [
    "#### MAE"
   ]
  },
  {
   "cell_type": "code",
   "execution_count": 23,
   "metadata": {},
   "outputs": [
    {
     "data": {
      "text/plain": [
       "55394.44195244894"
      ]
     },
     "execution_count": 23,
     "metadata": {},
     "output_type": "execute_result"
    }
   ],
   "source": [
    "mean_absolute_error(prediction, data['SalePrice'])"
   ]
  },
  {
   "cell_type": "markdown",
   "metadata": {},
   "source": [
    "#### RMSE"
   ]
  },
  {
   "cell_type": "code",
   "execution_count": 24,
   "metadata": {},
   "outputs": [
    {
     "data": {
      "text/plain": [
       "77868.51337752414"
      ]
     },
     "execution_count": 24,
     "metadata": {},
     "output_type": "execute_result"
    }
   ],
   "source": [
    "mean_squared_error(prediction, data['SalePrice']) ** 0.5"
   ]
  },
  {
   "cell_type": "markdown",
   "metadata": {},
   "source": [
    "### 5. 请你选择多种特征进行组合，完成多元线性回归，并对比不同的特征组合，它们训练出的模型在十折交叉验证上MAE与RMSE的差别，至少完成3组"
   ]
  },
  {
   "cell_type": "markdown",
   "metadata": {},
   "source": [
    "###### 扩展：多项式回归（一元线性回归的扩展），尝试对部分特征进行变换，如将其二次幂，三次幂作为特征输入模型，观察模型在预测能力上的变化\n",
    "###### 提示：多元线性回归，只要在上方的features这个list中，加入其他特征的名字就可以"
   ]
  },
  {
   "cell_type": "code",
   "execution_count": 54,
   "metadata": {},
   "outputs": [
    {
     "name": "stdout",
     "output_type": "stream",
     "text": [
      "MAE1: 30901.33384336828\n",
      "RMSE1: 45629.63763073459\n"
     ]
    }
   ],
   "source": [
    "features1 = ['MSSubClass', 'LotArea','OverallQual','OverallCond','YearBuilt','YearRemodAdd']\n",
    "x = data[features1]\n",
    "y = data['SalePrice']\n",
    "\n",
    "prediction1 = cross_val_predict(model, x, y, cv = 10)\n",
    "\n",
    "mae1 = mean_absolute_error(prediction1, data['SalePrice'])\n",
    "rmse1 = mean_squared_error(prediction1, data['SalePrice']) ** 0.5\n",
    "\n",
    "print('MAE1:',mae1)\n",
    "print('RMSE1:',rmse1)"
   ]
  },
  {
   "cell_type": "code",
   "execution_count": 55,
   "metadata": {},
   "outputs": [
    {
     "name": "stdout",
     "output_type": "stream",
     "text": [
      "MAE2: 31040.859234506654\n",
      "RMSE2: 49952.87170209668\n"
     ]
    }
   ],
   "source": [
    "features2 = ['BsmtFinSF1','BsmtFinSF2','BsmtUnfSF','TotalBsmtSF','1stFlrSF','2ndFlrSF']\n",
    "x = data[features2]\n",
    "y = data['SalePrice']\n",
    "x.shape\n",
    "\n",
    "prediction2 = cross_val_predict(model, x, y, cv = 10)\n",
    "\n",
    "mae2 = mean_absolute_error(prediction2, data['SalePrice'])\n",
    "rmse2 = mean_squared_error(prediction2, data['SalePrice']) ** 0.5\n",
    "\n",
    "print('MAE2:',mae2)\n",
    "print('RMSE2:',rmse2)"
   ]
  },
  {
   "cell_type": "code",
   "execution_count": 56,
   "metadata": {},
   "outputs": [
    {
     "name": "stdout",
     "output_type": "stream",
     "text": [
      "MAE3: 34266.78516313289\n",
      "RMSE3: 51790.84507999503\n"
     ]
    }
   ],
   "source": [
    "# YOUR CODE HERE\n",
    "features3 = ['LowQualFinSF', 'GrLivArea', 'BsmtFullBath', 'BsmtHalfBath', 'FullBath', 'HalfBath']\n",
    "x = data[features3]\n",
    "y = data['SalePrice']\n",
    "x.shape\n",
    "\n",
    "prediction3 = cross_val_predict(model, x, y, cv = 10)\n",
    "\n",
    "mae3 = mean_absolute_error(prediction3, data['SalePrice'])\n",
    "rmse3 = mean_squared_error(prediction3, data['SalePrice']) ** 0.5\n",
    "\n",
    "print('MAE3:',mae3)\n",
    "print('RMSE3:',rmse3)"
   ]
  },
  {
   "cell_type": "markdown",
   "metadata": {},
   "source": [
    "###### 双击此处填写\n",
    "1. 模型1使用的特征：'MSSubClass', 'LotArea','OverallQual','OverallCond','YearBuilt','YearRemodAdd'\n",
    "2. 模型2使用的特征：'BsmtFinSF1','BsmtFinSF2','BsmtUnfSF','TotalBsmtSF','1stFlrSF','2ndFlrSF'\n",
    "3. 模型3使用的特征:'LowQualFinSF', 'GrLivArea', 'BsmtFullBath', 'BsmtHalfBath', 'FullBath', 'HalfBath'\n",
    "\n",
    "模型|MAE|RMSE\n",
    "-|-|-\n",
    "模型1 | 30901.33384336828 | 45629.63763073459\n",
    "模型2 | 31040.859234506654 | 49952.87170209668\n",
    "模型3 | 34266.78516313289 | 51790.84507999503"
   ]
  },
  {
   "cell_type": "code",
   "execution_count": null,
   "metadata": {},
   "outputs": [],
   "source": []
  }
 ],
 "metadata": {
  "kernelspec": {
   "display_name": "Python 3",
   "language": "python",
   "name": "python3"
  },
  "language_info": {
   "codemirror_mode": {
    "name": "ipython",
    "version": 3
   },
   "file_extension": ".py",
   "mimetype": "text/x-python",
   "name": "python",
   "nbconvert_exporter": "python",
   "pygments_lexer": "ipython3",
   "version": "3.7.6"
  },
  "toc": {
   "base_numbering": 1,
   "nav_menu": {},
   "number_sections": true,
   "sideBar": true,
   "skip_h1_title": false,
   "title_cell": "Table of Contents",
   "title_sidebar": "Contents",
   "toc_cell": false,
   "toc_position": {},
   "toc_section_display": true,
   "toc_window_display": false
  }
 },
 "nbformat": 4,
 "nbformat_minor": 2
}
