{
 "cells": [
  {
   "cell_type": "markdown",
   "metadata": {},
   "source": [
    "# 第四题：支持向量机的回归任务\n",
    "\n",
    "实验内容：\n",
    "1. 使用支持向量机完成kaggle房价预测问题\n",
    "2. 使用训练集训练模型，计算测试集的MAE和RMSE\n",
    "\n",
    "核函数 | C | MAE | RMSE\n",
    "- | - | - | - \n",
    "rbf | 0.1 |56514.1783 | 79838.9884\n",
    "rbf | 1 | 56514.172 | 79838.8867\n",
    "linear | 0.1 | 44832.9673 |69484.0192\n",
    "linear | 1 |76810.7125 |96345.5377\n",
    "sigmoid | 0.1 | 56514.179 | 79838.9997\n",
    "sigmoid | 1 |  56514.179 | 79838.9997"
   ]
  },
  {
   "cell_type": "code",
   "execution_count": 1,
   "metadata": {},
   "outputs": [],
   "source": [
    "import numpy as np\n",
    "import pandas as pd\n",
    "\n",
    "# 读取数据\n",
    "data = pd.read_csv('data/kaggle_house_price_prediction/kaggle_hourse_price_train.csv')\n",
    "\n",
    "# 使用这3列作为特征\n",
    "features = ['LotArea', 'BsmtUnfSF', 'GarageArea']\n",
    "target = 'SalePrice'\n",
    "data = data[features + [target]]"
   ]
  },
  {
   "cell_type": "code",
   "execution_count": 2,
   "metadata": {},
   "outputs": [
    {
     "data": {
      "text/plain": [
       "((1022, 3), (1022,), (438, 3), (438,))"
      ]
     },
     "execution_count": 2,
     "metadata": {},
     "output_type": "execute_result"
    }
   ],
   "source": [
    "# 数据集分割\n",
    "from sklearn.model_selection import train_test_split\n",
    "trainX, testX, trainY, testY = train_test_split(data[features], data[target], test_size = 0.3, random_state = 32)\n",
    "trainX.shape, trainY.shape, testX.shape, testY.shape"
   ]
  },
  {
   "cell_type": "markdown",
   "metadata": {},
   "source": [
    "**注意：计算线性核的时候，要使用 LinearSVR 这个类，不要使用SVR(kernel = 'linear')。LinearSVR不需要设置kernel参数！**"
   ]
  },
  {
   "cell_type": "code",
   "execution_count": 3,
   "metadata": {},
   "outputs": [],
   "source": [
    "# 引入模型\n",
    "from sklearn.svm import SVR\n",
    "from sklearn.svm import LinearSVR"
   ]
  },
  {
   "cell_type": "code",
   "execution_count": 4,
   "metadata": {},
   "outputs": [],
   "source": [
    "from sklearn.metrics import mean_absolute_error\n",
    "from sklearn.metrics import mean_squared_error"
   ]
  },
  {
   "cell_type": "code",
   "execution_count": 5,
   "metadata": {},
   "outputs": [
    {
     "name": "stdout",
     "output_type": "stream",
     "text": [
      "rbf：C=0.1\n",
      "mae: 56512.8596\n",
      "rmse 79837.5074\n"
     ]
    }
   ],
   "source": [
    "regr=SVR(kernel='rbf',C=0.1,epsilon=0.2)\n",
    "regr.fit(trainX,trainY)\n",
    "prediction=regr.predict(testX)\n",
    "MAE=round(mean_absolute_error(testY,prediction),4)\n",
    "RMSE=round(mean_squared_error(testY,prediction)** 0.5,4)\n",
    "print('rbf：C=0.1')\n",
    "print('mae:',MAE)\n",
    "print('rmse',RMSE)"
   ]
  },
  {
   "cell_type": "code",
   "execution_count": 6,
   "metadata": {},
   "outputs": [
    {
     "name": "stdout",
     "output_type": "stream",
     "text": [
      "rbf：C=1\n",
      "mae: 56500.9937\n",
      "rmse 79823.6878\n"
     ]
    }
   ],
   "source": [
    "regr=SVR(kernel='rbf',C=1,epsilon=0.2)\n",
    "regr.fit(trainX,trainY)\n",
    "prediction=regr.predict(testX)\n",
    "MAE=round(mean_absolute_error(testY,prediction),4)\n",
    "RMSE=round(mean_squared_error(testY,prediction)** 0.5,4)\n",
    "print('rbf：C=1')\n",
    "print('mae:',MAE)\n",
    "print('rmse',RMSE)"
   ]
  },
  {
   "cell_type": "code",
   "execution_count": 7,
   "metadata": {},
   "outputs": [
    {
     "name": "stderr",
     "output_type": "stream",
     "text": [
      "C:\\Users\\JinGuo Pang\\anaconda3\\lib\\site-packages\\sklearn\\svm\\_base.py:947: ConvergenceWarning: Liblinear failed to converge, increase the number of iterations.\n",
      "  \"the number of iterations.\", ConvergenceWarning)\n"
     ]
    },
    {
     "data": {
      "text/plain": [
       "LinearSVR(C=0.1, dual=True, epsilon=0.2, fit_intercept=True,\n",
       "          intercept_scaling=1.0, loss='epsilon_insensitive', max_iter=1000,\n",
       "          random_state=32, tol=0.0001, verbose=0)"
      ]
     },
     "execution_count": 7,
     "metadata": {},
     "output_type": "execute_result"
    }
   ],
   "source": [
    "# YOUR CODE HERE\n",
    "regr=LinearSVR(C=0.1,random_state=32,epsilon=0.2)\n",
    "regr.fit(trainX,trainY)"
   ]
  },
  {
   "cell_type": "code",
   "execution_count": 8,
   "metadata": {},
   "outputs": [],
   "source": [
    "prediction=regr.predict(testX)"
   ]
  },
  {
   "cell_type": "code",
   "execution_count": 9,
   "metadata": {},
   "outputs": [
    {
     "name": "stdout",
     "output_type": "stream",
     "text": [
      "线性：C=0.1\n",
      "mae: 44832.9673\n",
      "rmse 69484.0192\n"
     ]
    }
   ],
   "source": [
    "MAE=round(mean_absolute_error(testY,prediction),4)\n",
    "RMSE=round(mean_squared_error(testY,prediction)** 0.5,4)\n",
    "print('线性：C=0.1')\n",
    "print('mae:',MAE)\n",
    "print('rmse',RMSE)"
   ]
  },
  {
   "cell_type": "code",
   "execution_count": 10,
   "metadata": {},
   "outputs": [
    {
     "name": "stdout",
     "output_type": "stream",
     "text": [
      "线性：C=1\n",
      "mae: 76810.7125\n",
      "rmse 96345.5377\n"
     ]
    },
    {
     "name": "stderr",
     "output_type": "stream",
     "text": [
      "C:\\Users\\JinGuo Pang\\anaconda3\\lib\\site-packages\\sklearn\\svm\\_base.py:947: ConvergenceWarning: Liblinear failed to converge, increase the number of iterations.\n",
      "  \"the number of iterations.\", ConvergenceWarning)\n"
     ]
    }
   ],
   "source": [
    "regr=LinearSVR(C=1,random_state=32,epsilon=0.2)\n",
    "regr.fit(trainX,trainY)\n",
    "prediction=regr.predict(testX)\n",
    "MAE=round(mean_absolute_error(testY,prediction),4)\n",
    "RMSE=round(mean_squared_error(testY,prediction)** 0.5,4)\n",
    "print('线性：C=1')\n",
    "print('mae:',MAE)\n",
    "print('rmse',RMSE)"
   ]
  },
  {
   "cell_type": "code",
   "execution_count": 11,
   "metadata": {},
   "outputs": [
    {
     "name": "stdout",
     "output_type": "stream",
     "text": [
      "sigmoid：C=0.1\n",
      "mae: 56514.0676\n",
      "rmse 79839.0332\n"
     ]
    }
   ],
   "source": [
    "regr=SVR(kernel='sigmoid',C=0.1,epsilon=0.2)\n",
    "regr.fit(trainX,trainY)\n",
    "prediction=regr.predict(testX)\n",
    "MAE=round(mean_absolute_error(testY,prediction),4)\n",
    "RMSE=round(mean_squared_error(testY,prediction)** 0.5,4)\n",
    "print('sigmoid：C=0.1')\n",
    "print('mae:',MAE)\n",
    "print('rmse',RMSE)"
   ]
  },
  {
   "cell_type": "code",
   "execution_count": 12,
   "metadata": {},
   "outputs": [
    {
     "name": "stdout",
     "output_type": "stream",
     "text": [
      "sigmoid：C=1\n",
      "mae: 56513.0682\n",
      "rmse 79839.2566\n"
     ]
    }
   ],
   "source": [
    "regr=SVR(kernel='sigmoid',C=1,epsilon=0.2)\n",
    "regr.fit(trainX,trainY)\n",
    "prediction=regr.predict(testX)\n",
    "MAE=round(mean_absolute_error(testY,prediction),4)\n",
    "RMSE=round(mean_squared_error(testY,prediction)** 0.5,4)\n",
    "print('sigmoid：C=1')\n",
    "print('mae:',MAE)\n",
    "print('rmse',RMSE)"
   ]
  },
  {
   "cell_type": "code",
   "execution_count": null,
   "metadata": {},
   "outputs": [],
   "source": []
  }
 ],
 "metadata": {
  "kernelspec": {
   "display_name": "Python 3",
   "language": "python",
   "name": "python3"
  },
  "language_info": {
   "codemirror_mode": {
    "name": "ipython",
    "version": 3
   },
   "file_extension": ".py",
   "mimetype": "text/x-python",
   "name": "python",
   "nbconvert_exporter": "python",
   "pygments_lexer": "ipython3",
   "version": "3.7.6"
  }
 },
 "nbformat": 4,
 "nbformat_minor": 2
}
