{
 "cells": [
  {
   "cell_type": "markdown",
   "metadata": {},
   "source": [
    "# 第一题：使用sklearn的GaussianNB、BernoulliNB、MultinomialNB完成spambase垃圾邮件分类任务\n",
    "\n",
    "实验内容：\n",
    "1. 使用GaussianNB、BernoulliNB、MultinomialNB完成spambase邮件分类\n",
    "2. 计算各自十折交叉验证的精度、查准率、查全率、F1值\n",
    "3. 根据精度、查准率、查全率、F1值的实际意义以及四个值的对比阐述三个算法在spambase中的表现对比"
   ]
  },
  {
   "cell_type": "markdown",
   "metadata": {},
   "source": [
    "# 1. 读取数据集"
   ]
  },
  {
   "cell_type": "code",
   "execution_count": 1,
   "metadata": {},
   "outputs": [],
   "source": [
    "import numpy as np\n",
    "spambase = np.loadtxt('data/spambase/spambase.data', delimiter = \",\")\n",
    "spamx = spambase[:, :57]\n",
    "spamy = spambase[:, 57]"
   ]
  },
  {
   "cell_type": "markdown",
   "metadata": {},
   "source": [
    "# 2. 导入模型"
   ]
  },
  {
   "cell_type": "code",
   "execution_count": 2,
   "metadata": {},
   "outputs": [],
   "source": [
    "from sklearn.naive_bayes import GaussianNB\n",
    "from sklearn.naive_bayes import MultinomialNB\n",
    "from sklearn.naive_bayes import BernoulliNB\n",
    "from sklearn.model_selection import cross_val_predict"
   ]
  },
  {
   "cell_type": "code",
   "execution_count": 4,
   "metadata": {},
   "outputs": [],
   "source": [
    "from sklearn.metrics import accuracy_score\n",
    "from sklearn.metrics import precision_score\n",
    "from sklearn.metrics import recall_score\n",
    "from sklearn.metrics import f1_score"
   ]
  },
  {
   "cell_type": "markdown",
   "metadata": {},
   "source": [
    "# 3. 计算十折交叉验证下，GaussianNB、BernoulliNB、MultinomialNB的精度、查准率、查全率、F1值"
   ]
  },
  {
   "cell_type": "code",
   "execution_count": 5,
   "metadata": {},
   "outputs": [
    {
     "name": "stdout",
     "output_type": "stream",
     "text": [
      "0.8217778743751358 0.7004440855874041 0.9569773855488142 0.8088578088578089\n"
     ]
    }
   ],
   "source": [
    "# YOUR CODE HERE\n",
    "model = GaussianNB()\n",
    "prediction = cross_val_predict(model, spamx, spamy.astype('int'), cv = 10)\n",
    "\n",
    "acc_spam = accuracy_score(spamy,prediction)\n",
    "pre_spam = precision_score(spamy,prediction)\n",
    "rec_spam = recall_score(spamy,prediction)\n",
    "f1_spam = f1_score(spamy,prediction)\n",
    "\n",
    "print(acc_spam,pre_spam,rec_spam,f1_spam)"
   ]
  },
  {
   "cell_type": "code",
   "execution_count": 6,
   "metadata": {},
   "outputs": [
    {
     "name": "stdout",
     "output_type": "stream",
     "text": [
      "0.8839382742881983 0.8813357185450209 0.815223386651958 0.8469914040114614\n"
     ]
    }
   ],
   "source": [
    "model = BernoulliNB()\n",
    "prediction = cross_val_predict(model, spamx, spamy.astype('int'), cv = 10)\n",
    "\n",
    "acc_spam = accuracy_score(spamy,prediction)\n",
    "pre_spam = precision_score(spamy,prediction)\n",
    "rec_spam = recall_score(spamy,prediction)\n",
    "f1_spam = f1_score(spamy,prediction)\n",
    "\n",
    "print(acc_spam,pre_spam,rec_spam,f1_spam)"
   ]
  },
  {
   "cell_type": "code",
   "execution_count": 7,
   "metadata": {},
   "outputs": [
    {
     "name": "stdout",
     "output_type": "stream",
     "text": [
      "0.786350793305803 0.7323628219484882 0.7214561500275786 0.7268685746040567\n"
     ]
    }
   ],
   "source": [
    "model = MultinomialNB()\n",
    "prediction = cross_val_predict(model, spamx, spamy.astype('int'), cv = 10)\n",
    "\n",
    "acc_spam = accuracy_score(spamy,prediction)\n",
    "pre_spam = precision_score(spamy,prediction)\n",
    "rec_spam = recall_score(spamy,prediction)\n",
    "f1_spam = f1_score(spamy,prediction)\n",
    "\n",
    "print(acc_spam,pre_spam,rec_spam,f1_spam)"
   ]
  },
  {
   "cell_type": "markdown",
   "metadata": {},
   "source": [
    "###### 双击此处填写\n",
    "算法|精度|查准率|查全率|F1值\n",
    "-|-|-|-|-\n",
    "GaussianNB|0.8217778743751358|0.7004440855874041|0.9569773855488142|0.8088578088578089\n",
    "MultinomialNB|0.8839382742881983|0.8813357185450209|0.815223386651958|0.8469914040114614\n",
    "BernoulliNB|0.786350793305803|0.7323628219484882|0.7214561500275786|0.7268685746040567"
   ]
  },
  {
   "cell_type": "markdown",
   "metadata": {},
   "source": [
    "###### 双击此处填写分析\n",
    "\n",
    "分析如下：GaussianNB的查全率最高，查准率最低，综合效果较好；\n",
    "BernoulliNB的精度、查准率、F1值最高，综合效果最好；\n",
    "MultinomialNB的精度、查全率、F1值均为最低，综合效果最差；"
   ]
  },
  {
   "cell_type": "code",
   "execution_count": null,
   "metadata": {},
   "outputs": [],
   "source": []
  }
 ],
 "metadata": {
  "kernelspec": {
   "display_name": "Python 3",
   "language": "python",
   "name": "python3"
  },
  "language_info": {
   "codemirror_mode": {
    "name": "ipython",
    "version": 3
   },
   "file_extension": ".py",
   "mimetype": "text/x-python",
   "name": "python",
   "nbconvert_exporter": "python",
   "pygments_lexer": "ipython3",
   "version": "3.7.6"
  },
  "toc": {
   "base_numbering": 1,
   "nav_menu": {},
   "number_sections": true,
   "sideBar": true,
   "skip_h1_title": false,
   "title_cell": "Table of Contents",
   "title_sidebar": "Contents",
   "toc_cell": false,
   "toc_position": {},
   "toc_section_display": true,
   "toc_window_display": false
  }
 },
 "nbformat": 4,
 "nbformat_minor": 2
}
